{
  "nbformat": 4,
  "nbformat_minor": 0,
  "metadata": {
    "colab": {
      "provenance": []
    },
    "kernelspec": {
      "name": "python3",
      "display_name": "Python 3"
    },
    "language_info": {
      "name": "python"
    }
  },
  "cells": [
    {
      "cell_type": "markdown",
      "source": [
        "КОД РАБОТАЕТ ТОЛЬКО НА ЛОКАЛЬНОЙ СРЕДЕ"
      ],
      "metadata": {
        "id": "xAbRPb3IWYQB"
      }
    },
    {
      "cell_type": "code",
      "execution_count": 1,
      "metadata": {
        "colab": {
          "base_uri": "https://localhost:8080/",
          "height": 356
        },
        "id": "qx7DbHpLUpcz",
        "outputId": "ec0e2dee-c759-4e8d-d709-3041e0843819"
      },
      "outputs": [
        {
          "output_type": "error",
          "ename": "TclError",
          "evalue": "ignored",
          "traceback": [
            "\u001b[0;31m---------------------------------------------------------------------------\u001b[0m",
            "\u001b[0;31mTclError\u001b[0m                                  Traceback (most recent call last)",
            "\u001b[0;32m<ipython-input-1-76a16e93986d>\u001b[0m in \u001b[0;36m<cell line: 45>\u001b[0;34m()\u001b[0m\n\u001b[1;32m     44\u001b[0m \u001b[0;34m\u001b[0m\u001b[0m\n\u001b[1;32m     45\u001b[0m \u001b[0;32mif\u001b[0m \u001b[0m__name__\u001b[0m \u001b[0;34m==\u001b[0m \u001b[0;34m\"__main__\"\u001b[0m\u001b[0;34m:\u001b[0m\u001b[0;34m\u001b[0m\u001b[0;34m\u001b[0m\u001b[0m\n\u001b[0;32m---> 46\u001b[0;31m     \u001b[0mroot\u001b[0m \u001b[0;34m=\u001b[0m \u001b[0mtk\u001b[0m\u001b[0;34m.\u001b[0m\u001b[0mTk\u001b[0m\u001b[0;34m(\u001b[0m\u001b[0;34m)\u001b[0m\u001b[0;34m\u001b[0m\u001b[0;34m\u001b[0m\u001b[0m\n\u001b[0m\u001b[1;32m     47\u001b[0m     \u001b[0mgame\u001b[0m \u001b[0;34m=\u001b[0m \u001b[0mTicTacToe\u001b[0m\u001b[0;34m(\u001b[0m\u001b[0mroot\u001b[0m\u001b[0;34m)\u001b[0m\u001b[0;34m\u001b[0m\u001b[0;34m\u001b[0m\u001b[0m\n\u001b[1;32m     48\u001b[0m     \u001b[0mroot\u001b[0m\u001b[0;34m.\u001b[0m\u001b[0mmainloop\u001b[0m\u001b[0;34m(\u001b[0m\u001b[0;34m)\u001b[0m\u001b[0;34m\u001b[0m\u001b[0;34m\u001b[0m\u001b[0m\n",
            "\u001b[0;32m/usr/lib/python3.10/tkinter/__init__.py\u001b[0m in \u001b[0;36m__init__\u001b[0;34m(self, screenName, baseName, className, useTk, sync, use)\u001b[0m\n\u001b[1;32m   2300\u001b[0m                 \u001b[0mbaseName\u001b[0m \u001b[0;34m=\u001b[0m \u001b[0mbaseName\u001b[0m \u001b[0;34m+\u001b[0m \u001b[0mext\u001b[0m\u001b[0;34m\u001b[0m\u001b[0;34m\u001b[0m\u001b[0m\n\u001b[1;32m   2301\u001b[0m         \u001b[0minteractive\u001b[0m \u001b[0;34m=\u001b[0m \u001b[0;32mFalse\u001b[0m\u001b[0;34m\u001b[0m\u001b[0;34m\u001b[0m\u001b[0m\n\u001b[0;32m-> 2302\u001b[0;31m         \u001b[0mself\u001b[0m\u001b[0;34m.\u001b[0m\u001b[0mtk\u001b[0m \u001b[0;34m=\u001b[0m \u001b[0m_tkinter\u001b[0m\u001b[0;34m.\u001b[0m\u001b[0mcreate\u001b[0m\u001b[0;34m(\u001b[0m\u001b[0mscreenName\u001b[0m\u001b[0;34m,\u001b[0m \u001b[0mbaseName\u001b[0m\u001b[0;34m,\u001b[0m \u001b[0mclassName\u001b[0m\u001b[0;34m,\u001b[0m \u001b[0minteractive\u001b[0m\u001b[0;34m,\u001b[0m \u001b[0mwantobjects\u001b[0m\u001b[0;34m,\u001b[0m \u001b[0museTk\u001b[0m\u001b[0;34m,\u001b[0m \u001b[0msync\u001b[0m\u001b[0;34m,\u001b[0m \u001b[0muse\u001b[0m\u001b[0;34m)\u001b[0m\u001b[0;34m\u001b[0m\u001b[0;34m\u001b[0m\u001b[0m\n\u001b[0m\u001b[1;32m   2303\u001b[0m         \u001b[0;32mif\u001b[0m \u001b[0museTk\u001b[0m\u001b[0;34m:\u001b[0m\u001b[0;34m\u001b[0m\u001b[0;34m\u001b[0m\u001b[0m\n\u001b[1;32m   2304\u001b[0m             \u001b[0mself\u001b[0m\u001b[0;34m.\u001b[0m\u001b[0m_loadtk\u001b[0m\u001b[0;34m(\u001b[0m\u001b[0;34m)\u001b[0m\u001b[0;34m\u001b[0m\u001b[0;34m\u001b[0m\u001b[0m\n",
            "\u001b[0;31mTclError\u001b[0m: no display name and no $DISPLAY environment variable"
          ]
        }
      ],
      "source": [
        "import tkinter as tk\n",
        "from tkinter import messagebox\n",
        "\n",
        "class TicTacToe:\n",
        "    def __init__(self, master):\n",
        "        self.master = master\n",
        "        self.master.title(\"Крестики-нолики\")\n",
        "        self.turn = \"X\"\n",
        "        self.board = [\"\", \"\", \"\", \"\", \"\", \"\", \"\", \"\", \"\"]\n",
        "        self.buttons = []\n",
        "\n",
        "        for i in range(9):\n",
        "            button = tk.Button(self.master, text=\"\", font=(\"Helvetica\", 20), width=4, height=2,\n",
        "                               command=lambda x=i:self.button_pressed(x))\n",
        "            button.grid(row=i//3, column=i%3)\n",
        "            self.buttons.append(button)\n",
        "\n",
        "    def button_pressed(self, index):\n",
        "        if self.board[index] == \"\":\n",
        "            self.board[index] = self.turn\n",
        "            self.buttons[index].config(text=self.turn)\n",
        "            if self.turn == \"X\":\n",
        "                self.turn = \"O\"\n",
        "            else:\n",
        "                self.turn = \"X\"\n",
        "            self.check_game_over()\n",
        "\n",
        "    def check_game_over(self):\n",
        "        winning_combinations = [[0,1,2], [3,4,5], [6,7,8], [0,3,6], [1,4,7], [2,5,8], [0,4,8], [2,4,6]]\n",
        "        for combination in winning_combinations:\n",
        "            if self.board[combination[0]] == self.board[combination[1]] == self.board[combination[2]] != \"\":\n",
        "                messagebox.showinfo(title=\"Игра окончена!\", message=\"Выиграл игрок \" + self.board[combination[0]])\n",
        "                self.reset_board()\n",
        "                return\n",
        "        if \"\" not in self.board:\n",
        "            messagebox.showinfo(title=\"Игра окончена!\", message=\"Ничья!\")\n",
        "            self.reset_board()\n",
        "\n",
        "    def reset_board(self):\n",
        "        self.turn = \"X\"\n",
        "        self.board = [\"\", \"\", \"\", \"\", \"\", \"\", \"\", \"\", \"\"]\n",
        "        for button in self.buttons:\n",
        "            button.config(text=\"\")\n",
        " \n",
        "if __name__ == \"__main__\":\n",
        "    root = tk.Tk()\n",
        "    game = TicTacToe(root)\n",
        "    root.mainloop()\n"
      ]
    },
    {
      "cell_type": "markdown",
      "source": [
        "КОД РАБОТАЕТ ТОЛЬКО НА ЛОКАЛЬНОЙ СРЕДЕ"
      ],
      "metadata": {
        "id": "Wj_WXuavWTHZ"
      }
    },
    {
      "cell_type": "code",
      "source": [],
      "metadata": {
        "id": "ZUJpC2_bWRuh"
      },
      "execution_count": null,
      "outputs": []
    }
  ]
}